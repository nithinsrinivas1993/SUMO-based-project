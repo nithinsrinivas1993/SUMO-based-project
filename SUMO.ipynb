{
  "nbformat": 4,
  "nbformat_minor": 0,
  "metadata": {
    "kernelspec": {
      "display_name": "Python 3",
      "language": "python",
      "name": "python3"
    },
    "language_info": {
      "codemirror_mode": {
        "name": "ipython",
        "version": 3
      },
      "file_extension": ".py",
      "mimetype": "text/x-python",
      "name": "python",
      "nbconvert_exporter": "python",
      "pygments_lexer": "ipython3",
      "version": "3.7.6"
    },
    "colab": {
      "name": "SUMO.ipynb",
      "provenance": [],
      "include_colab_link": true
    }
  },
  "cells": [
    {
      "cell_type": "markdown",
      "metadata": {
        "id": "view-in-github",
        "colab_type": "text"
      },
      "source": [
        "<a href=\"https://colab.research.google.com/github/nithinsrinivas1993/SUMO-based-project/blob/master/SUMO.ipynb\" target=\"_parent\"><img src=\"https://colab.research.google.com/assets/colab-badge.svg\" alt=\"Open In Colab\"/></a>"
      ]
    },
    {
      "cell_type": "code",
      "metadata": {
        "id": "zfgQYuNUoouo",
        "colab_type": "code",
        "colab": {}
      },
      "source": [
        "import numpy as np # linear algebra\n",
        "import pandas as pd # data processing, CSV file I/O (e.g. pd.read_csv)\n",
        "\n",
        "from subprocess import check_output\n",
        "from keras.layers.core import Dense, Activation, Dropout\n",
        "from keras.layers.recurrent import LSTM\n",
        "from keras.models import Sequential\n",
        "from sklearn.model_selection import  train_test_split\n",
        "import time #helper libraries\n",
        "from sklearn.preprocessing import MinMaxScaler\n",
        "import matplotlib.pyplot as plt\n",
        "from numpy import newaxis\n",
        "from geopy.geocoders import Nominatim"
      ],
      "execution_count": 0,
      "outputs": []
    },
    {
      "cell_type": "code",
      "metadata": {
        "id": "wuQJwtzIoou3",
        "colab_type": "code",
        "outputId": "6475d41b-a42a-4e00-b879-fcb931699436",
        "colab": {
          "base_uri": "https://localhost:8080/",
          "height": 153
        }
      },
      "source": [
        "pip install keras "
      ],
      "execution_count": 0,
      "outputs": [
        {
          "output_type": "stream",
          "text": [
            "Requirement already satisfied: keras in /usr/local/lib/python3.6/dist-packages (2.3.1)\n",
            "Requirement already satisfied: h5py in /usr/local/lib/python3.6/dist-packages (from keras) (2.10.0)\n",
            "Requirement already satisfied: keras-preprocessing>=1.0.5 in /usr/local/lib/python3.6/dist-packages (from keras) (1.1.2)\n",
            "Requirement already satisfied: numpy>=1.9.1 in /usr/local/lib/python3.6/dist-packages (from keras) (1.18.4)\n",
            "Requirement already satisfied: pyyaml in /usr/local/lib/python3.6/dist-packages (from keras) (3.13)\n",
            "Requirement already satisfied: keras-applications>=1.0.6 in /usr/local/lib/python3.6/dist-packages (from keras) (1.0.8)\n",
            "Requirement already satisfied: scipy>=0.14 in /usr/local/lib/python3.6/dist-packages (from keras) (1.4.1)\n",
            "Requirement already satisfied: six>=1.9.0 in /usr/local/lib/python3.6/dist-packages (from keras) (1.12.0)\n"
          ],
          "name": "stdout"
        }
      ]
    },
    {
      "cell_type": "code",
      "metadata": {
        "id": "gefTHmFjoovC",
        "colab_type": "code",
        "outputId": "1c0c4607-bec1-4927-f036-68bf631b80ca",
        "colab": {
          "base_uri": "https://localhost:8080/",
          "height": 51
        }
      },
      "source": [
        "pip install geopy "
      ],
      "execution_count": 0,
      "outputs": [
        {
          "output_type": "stream",
          "text": [
            "Requirement already satisfied: geopy in /usr/local/lib/python3.6/dist-packages (1.17.0)\n",
            "Requirement already satisfied: geographiclib<2,>=1.49 in /usr/local/lib/python3.6/dist-packages (from geopy) (1.50)\n"
          ],
          "name": "stdout"
        }
      ]
    },
    {
      "cell_type": "code",
      "metadata": {
        "id": "5y2sOZ6Cqcn6",
        "colab_type": "code",
        "colab": {}
      },
      "source": [
        "from google.colab import drive\n",
        "drive.mount('/content/drive')"
      ],
      "execution_count": 0,
      "outputs": []
    },
    {
      "cell_type": "code",
      "metadata": {
        "id": "DwWeqVYKoovQ",
        "colab_type": "code",
        "outputId": "3240ce66-b92a-42c6-982f-08709948806b",
        "colab": {
          "base_uri": "https://localhost:8080/",
          "height": 255
        }
      },
      "source": [
        "dataset = pd.read_csv(\"/content/drive/My Drive/Datasheet_clean.csv\")\n",
        "\n",
        "dataset = dataset.dropna()\n",
        "dataset = dataset.drop_duplicates()\n",
        "print(dataset)\n",
        "#data.to_csv('/content/drive/My Drive/Datasheet_clean.csv')"
      ],
      "execution_count": 0,
      "outputs": [
        {
          "output_type": "stream",
          "text": [
            "      Unnamed: 0  Unnamed: 0.1  Timestamp  ...  VehiclePos.1 Longitude   latitude\n",
            "0              0             0          0  ...      4.899500 -6.261524  53.352844\n",
            "1              1             1          1  ...      3.904634 -6.261489  53.352816\n",
            "2              2             2          2  ...      0.349166 -6.261486  53.352814\n",
            "3              3             3          3  ...      0.041667 -6.261485  53.352814\n",
            "4              4             4          4  ...      0.002291 -6.261485  53.352814\n",
            "...          ...           ...        ...  ...           ...       ...        ...\n",
            "4731        4731          5384       3734  ...     14.039617 -6.251481  53.348799\n",
            "4732        4732          5385       3735  ...     15.545515 -6.251473  53.348657\n",
            "4733        4733          5386       3736  ...     16.167585 -6.251479  53.348509\n",
            "4734        4734          5387       3737  ...     11.667585 -6.251402  53.348418\n",
            "4735        4735          5388       3738  ...     14.041988 -6.251285  53.348315\n",
            "\n",
            "[4736 rows x 9 columns]\n"
          ],
          "name": "stdout"
        }
      ]
    },
    {
      "cell_type": "code",
      "metadata": {
        "id": "yxCXa5jboovZ",
        "colab_type": "code",
        "outputId": "c911bb4e-c722-456f-c300-4a7c53391cc1",
        "colab": {
          "base_uri": "https://localhost:8080/",
          "height": 419
        }
      },
      "source": [
        "dataset"
      ],
      "execution_count": 0,
      "outputs": [
        {
          "output_type": "execute_result",
          "data": {
            "text/html": [
              "<div>\n",
              "<style scoped>\n",
              "    .dataframe tbody tr th:only-of-type {\n",
              "        vertical-align: middle;\n",
              "    }\n",
              "\n",
              "    .dataframe tbody tr th {\n",
              "        vertical-align: top;\n",
              "    }\n",
              "\n",
              "    .dataframe thead th {\n",
              "        text-align: right;\n",
              "    }\n",
              "</style>\n",
              "<table border=\"1\" class=\"dataframe\">\n",
              "  <thead>\n",
              "    <tr style=\"text-align: right;\">\n",
              "      <th></th>\n",
              "      <th>Unnamed: 0</th>\n",
              "      <th>Unnamed: 0.1</th>\n",
              "      <th>Timestamp</th>\n",
              "      <th>Vehicle Angle</th>\n",
              "      <th>VehicleID</th>\n",
              "      <th>VehiclePos</th>\n",
              "      <th>VehiclePos.1</th>\n",
              "      <th>Longitude</th>\n",
              "      <th>latitude</th>\n",
              "    </tr>\n",
              "  </thead>\n",
              "  <tbody>\n",
              "    <tr>\n",
              "      <th>0</th>\n",
              "      <td>0</td>\n",
              "      <td>0</td>\n",
              "      <td>0</td>\n",
              "      <td>140.695093</td>\n",
              "      <td>veh0</td>\n",
              "      <td>5.100000</td>\n",
              "      <td>4.899500</td>\n",
              "      <td>-6.261524</td>\n",
              "      <td>53.352844</td>\n",
              "    </tr>\n",
              "    <tr>\n",
              "      <th>1</th>\n",
              "      <td>1</td>\n",
              "      <td>1</td>\n",
              "      <td>1</td>\n",
              "      <td>140.695093</td>\n",
              "      <td>veh0</td>\n",
              "      <td>9.004634</td>\n",
              "      <td>3.904634</td>\n",
              "      <td>-6.261489</td>\n",
              "      <td>53.352816</td>\n",
              "    </tr>\n",
              "    <tr>\n",
              "      <th>2</th>\n",
              "      <td>2</td>\n",
              "      <td>2</td>\n",
              "      <td>2</td>\n",
              "      <td>140.695093</td>\n",
              "      <td>veh0</td>\n",
              "      <td>9.353800</td>\n",
              "      <td>0.349166</td>\n",
              "      <td>-6.261486</td>\n",
              "      <td>53.352814</td>\n",
              "    </tr>\n",
              "    <tr>\n",
              "      <th>3</th>\n",
              "      <td>3</td>\n",
              "      <td>3</td>\n",
              "      <td>3</td>\n",
              "      <td>140.695093</td>\n",
              "      <td>veh0</td>\n",
              "      <td>9.395467</td>\n",
              "      <td>0.041667</td>\n",
              "      <td>-6.261485</td>\n",
              "      <td>53.352814</td>\n",
              "    </tr>\n",
              "    <tr>\n",
              "      <th>4</th>\n",
              "      <td>4</td>\n",
              "      <td>4</td>\n",
              "      <td>4</td>\n",
              "      <td>140.695093</td>\n",
              "      <td>veh0</td>\n",
              "      <td>9.397758</td>\n",
              "      <td>0.002291</td>\n",
              "      <td>-6.261485</td>\n",
              "      <td>53.352814</td>\n",
              "    </tr>\n",
              "    <tr>\n",
              "      <th>...</th>\n",
              "      <td>...</td>\n",
              "      <td>...</td>\n",
              "      <td>...</td>\n",
              "      <td>...</td>\n",
              "      <td>...</td>\n",
              "      <td>...</td>\n",
              "      <td>...</td>\n",
              "      <td>...</td>\n",
              "      <td>...</td>\n",
              "    </tr>\n",
              "    <tr>\n",
              "      <th>4731</th>\n",
              "      <td>4731</td>\n",
              "      <td>5384</td>\n",
              "      <td>3734</td>\n",
              "      <td>166.581883</td>\n",
              "      <td>veh72</td>\n",
              "      <td>18.571819</td>\n",
              "      <td>14.039617</td>\n",
              "      <td>-6.251481</td>\n",
              "      <td>53.348799</td>\n",
              "    </tr>\n",
              "    <tr>\n",
              "      <th>4732</th>\n",
              "      <td>4732</td>\n",
              "      <td>5385</td>\n",
              "      <td>3735</td>\n",
              "      <td>177.287754</td>\n",
              "      <td>veh72</td>\n",
              "      <td>34.117334</td>\n",
              "      <td>15.545515</td>\n",
              "      <td>-6.251473</td>\n",
              "      <td>53.348657</td>\n",
              "    </tr>\n",
              "    <tr>\n",
              "      <th>4733</th>\n",
              "      <td>4733</td>\n",
              "      <td>5386</td>\n",
              "      <td>3736</td>\n",
              "      <td>179.161726</td>\n",
              "      <td>veh72</td>\n",
              "      <td>50.284919</td>\n",
              "      <td>16.167585</td>\n",
              "      <td>-6.251479</td>\n",
              "      <td>53.348509</td>\n",
              "    </tr>\n",
              "    <tr>\n",
              "      <th>4734</th>\n",
              "      <td>4734</td>\n",
              "      <td>5387</td>\n",
              "      <td>3737</td>\n",
              "      <td>141.330902</td>\n",
              "      <td>veh72</td>\n",
              "      <td>3.342503</td>\n",
              "      <td>11.667585</td>\n",
              "      <td>-6.251402</td>\n",
              "      <td>53.348418</td>\n",
              "    </tr>\n",
              "    <tr>\n",
              "      <th>4735</th>\n",
              "      <td>4735</td>\n",
              "      <td>5388</td>\n",
              "      <td>3738</td>\n",
              "      <td>138.551498</td>\n",
              "      <td>veh72</td>\n",
              "      <td>17.384491</td>\n",
              "      <td>14.041988</td>\n",
              "      <td>-6.251285</td>\n",
              "      <td>53.348315</td>\n",
              "    </tr>\n",
              "  </tbody>\n",
              "</table>\n",
              "<p>4736 rows × 9 columns</p>\n",
              "</div>"
            ],
            "text/plain": [
              "      Unnamed: 0  Unnamed: 0.1  Timestamp  ...  VehiclePos.1 Longitude   latitude\n",
              "0              0             0          0  ...      4.899500 -6.261524  53.352844\n",
              "1              1             1          1  ...      3.904634 -6.261489  53.352816\n",
              "2              2             2          2  ...      0.349166 -6.261486  53.352814\n",
              "3              3             3          3  ...      0.041667 -6.261485  53.352814\n",
              "4              4             4          4  ...      0.002291 -6.261485  53.352814\n",
              "...          ...           ...        ...  ...           ...       ...        ...\n",
              "4731        4731          5384       3734  ...     14.039617 -6.251481  53.348799\n",
              "4732        4732          5385       3735  ...     15.545515 -6.251473  53.348657\n",
              "4733        4733          5386       3736  ...     16.167585 -6.251479  53.348509\n",
              "4734        4734          5387       3737  ...     11.667585 -6.251402  53.348418\n",
              "4735        4735          5388       3738  ...     14.041988 -6.251285  53.348315\n",
              "\n",
              "[4736 rows x 9 columns]"
            ]
          },
          "metadata": {
            "tags": []
          },
          "execution_count": 33
        }
      ]
    },
    {
      "cell_type": "code",
      "metadata": {
        "id": "vDzInudIoovh",
        "colab_type": "code",
        "outputId": "d00638fa-13f6-4542-b7da-c920f9377ac5",
        "colab": {
          "base_uri": "https://localhost:8080/",
          "height": 204
        }
      },
      "source": [
        "dataset.head()"
      ],
      "execution_count": 0,
      "outputs": [
        {
          "output_type": "execute_result",
          "data": {
            "text/html": [
              "<div>\n",
              "<style scoped>\n",
              "    .dataframe tbody tr th:only-of-type {\n",
              "        vertical-align: middle;\n",
              "    }\n",
              "\n",
              "    .dataframe tbody tr th {\n",
              "        vertical-align: top;\n",
              "    }\n",
              "\n",
              "    .dataframe thead th {\n",
              "        text-align: right;\n",
              "    }\n",
              "</style>\n",
              "<table border=\"1\" class=\"dataframe\">\n",
              "  <thead>\n",
              "    <tr style=\"text-align: right;\">\n",
              "      <th></th>\n",
              "      <th>Unnamed: 0</th>\n",
              "      <th>Unnamed: 0.1</th>\n",
              "      <th>Timestamp</th>\n",
              "      <th>Vehicle Angle</th>\n",
              "      <th>VehicleID</th>\n",
              "      <th>VehiclePos</th>\n",
              "      <th>VehiclePos.1</th>\n",
              "      <th>Longitude</th>\n",
              "      <th>latitude</th>\n",
              "    </tr>\n",
              "  </thead>\n",
              "  <tbody>\n",
              "    <tr>\n",
              "      <th>0</th>\n",
              "      <td>0</td>\n",
              "      <td>0</td>\n",
              "      <td>0</td>\n",
              "      <td>140.695093</td>\n",
              "      <td>veh0</td>\n",
              "      <td>5.100000</td>\n",
              "      <td>4.899500</td>\n",
              "      <td>-6.261524</td>\n",
              "      <td>53.352844</td>\n",
              "    </tr>\n",
              "    <tr>\n",
              "      <th>1</th>\n",
              "      <td>1</td>\n",
              "      <td>1</td>\n",
              "      <td>1</td>\n",
              "      <td>140.695093</td>\n",
              "      <td>veh0</td>\n",
              "      <td>9.004634</td>\n",
              "      <td>3.904634</td>\n",
              "      <td>-6.261489</td>\n",
              "      <td>53.352816</td>\n",
              "    </tr>\n",
              "    <tr>\n",
              "      <th>2</th>\n",
              "      <td>2</td>\n",
              "      <td>2</td>\n",
              "      <td>2</td>\n",
              "      <td>140.695093</td>\n",
              "      <td>veh0</td>\n",
              "      <td>9.353800</td>\n",
              "      <td>0.349166</td>\n",
              "      <td>-6.261486</td>\n",
              "      <td>53.352814</td>\n",
              "    </tr>\n",
              "    <tr>\n",
              "      <th>3</th>\n",
              "      <td>3</td>\n",
              "      <td>3</td>\n",
              "      <td>3</td>\n",
              "      <td>140.695093</td>\n",
              "      <td>veh0</td>\n",
              "      <td>9.395467</td>\n",
              "      <td>0.041667</td>\n",
              "      <td>-6.261485</td>\n",
              "      <td>53.352814</td>\n",
              "    </tr>\n",
              "    <tr>\n",
              "      <th>4</th>\n",
              "      <td>4</td>\n",
              "      <td>4</td>\n",
              "      <td>4</td>\n",
              "      <td>140.695093</td>\n",
              "      <td>veh0</td>\n",
              "      <td>9.397758</td>\n",
              "      <td>0.002291</td>\n",
              "      <td>-6.261485</td>\n",
              "      <td>53.352814</td>\n",
              "    </tr>\n",
              "  </tbody>\n",
              "</table>\n",
              "</div>"
            ],
            "text/plain": [
              "   Unnamed: 0  Unnamed: 0.1  Timestamp  ...  VehiclePos.1 Longitude   latitude\n",
              "0           0             0          0  ...      4.899500 -6.261524  53.352844\n",
              "1           1             1          1  ...      3.904634 -6.261489  53.352816\n",
              "2           2             2          2  ...      0.349166 -6.261486  53.352814\n",
              "3           3             3          3  ...      0.041667 -6.261485  53.352814\n",
              "4           4             4          4  ...      0.002291 -6.261485  53.352814\n",
              "\n",
              "[5 rows x 9 columns]"
            ]
          },
          "metadata": {
            "tags": []
          },
          "execution_count": 34
        }
      ]
    },
    {
      "cell_type": "code",
      "metadata": {
        "id": "aAXBs0ksoovn",
        "colab_type": "code",
        "outputId": "45b195a3-b3bc-429b-f7e8-126e920b5d4a",
        "colab": {
          "base_uri": "https://localhost:8080/",
          "height": 34
        }
      },
      "source": [
        "print(len(dataset[[\"latitude\",\"Longitude\" , \"Vehicle Angle\"]]))"
      ],
      "execution_count": 0,
      "outputs": [
        {
          "output_type": "stream",
          "text": [
            "4736\n"
          ],
          "name": "stdout"
        }
      ]
    },
    {
      "cell_type": "code",
      "metadata": {
        "id": "x9IpEpIAoovr",
        "colab_type": "code",
        "colab": {}
      },
      "source": [
        "final_dataset = dataset[[\"latitude\",\"Longitude\",\"Vehicle Angle\"]]"
      ],
      "execution_count": 0,
      "outputs": []
    },
    {
      "cell_type": "code",
      "metadata": {
        "id": "7tucr6Scoovu",
        "colab_type": "code",
        "outputId": "99af23e0-4efb-4c3f-a65b-a4878bca7881",
        "colab": {
          "base_uri": "https://localhost:8080/",
          "height": 419
        }
      },
      "source": [
        "final_dataset"
      ],
      "execution_count": 0,
      "outputs": [
        {
          "output_type": "execute_result",
          "data": {
            "text/html": [
              "<div>\n",
              "<style scoped>\n",
              "    .dataframe tbody tr th:only-of-type {\n",
              "        vertical-align: middle;\n",
              "    }\n",
              "\n",
              "    .dataframe tbody tr th {\n",
              "        vertical-align: top;\n",
              "    }\n",
              "\n",
              "    .dataframe thead th {\n",
              "        text-align: right;\n",
              "    }\n",
              "</style>\n",
              "<table border=\"1\" class=\"dataframe\">\n",
              "  <thead>\n",
              "    <tr style=\"text-align: right;\">\n",
              "      <th></th>\n",
              "      <th>latitude</th>\n",
              "      <th>Longitude</th>\n",
              "      <th>Vehicle Angle</th>\n",
              "    </tr>\n",
              "  </thead>\n",
              "  <tbody>\n",
              "    <tr>\n",
              "      <th>0</th>\n",
              "      <td>53.352844</td>\n",
              "      <td>-6.261524</td>\n",
              "      <td>140.695093</td>\n",
              "    </tr>\n",
              "    <tr>\n",
              "      <th>1</th>\n",
              "      <td>53.352816</td>\n",
              "      <td>-6.261489</td>\n",
              "      <td>140.695093</td>\n",
              "    </tr>\n",
              "    <tr>\n",
              "      <th>2</th>\n",
              "      <td>53.352814</td>\n",
              "      <td>-6.261486</td>\n",
              "      <td>140.695093</td>\n",
              "    </tr>\n",
              "    <tr>\n",
              "      <th>3</th>\n",
              "      <td>53.352814</td>\n",
              "      <td>-6.261485</td>\n",
              "      <td>140.695093</td>\n",
              "    </tr>\n",
              "    <tr>\n",
              "      <th>4</th>\n",
              "      <td>53.352814</td>\n",
              "      <td>-6.261485</td>\n",
              "      <td>140.695093</td>\n",
              "    </tr>\n",
              "    <tr>\n",
              "      <th>...</th>\n",
              "      <td>...</td>\n",
              "      <td>...</td>\n",
              "      <td>...</td>\n",
              "    </tr>\n",
              "    <tr>\n",
              "      <th>4731</th>\n",
              "      <td>53.348799</td>\n",
              "      <td>-6.251481</td>\n",
              "      <td>166.581883</td>\n",
              "    </tr>\n",
              "    <tr>\n",
              "      <th>4732</th>\n",
              "      <td>53.348657</td>\n",
              "      <td>-6.251473</td>\n",
              "      <td>177.287754</td>\n",
              "    </tr>\n",
              "    <tr>\n",
              "      <th>4733</th>\n",
              "      <td>53.348509</td>\n",
              "      <td>-6.251479</td>\n",
              "      <td>179.161726</td>\n",
              "    </tr>\n",
              "    <tr>\n",
              "      <th>4734</th>\n",
              "      <td>53.348418</td>\n",
              "      <td>-6.251402</td>\n",
              "      <td>141.330902</td>\n",
              "    </tr>\n",
              "    <tr>\n",
              "      <th>4735</th>\n",
              "      <td>53.348315</td>\n",
              "      <td>-6.251285</td>\n",
              "      <td>138.551498</td>\n",
              "    </tr>\n",
              "  </tbody>\n",
              "</table>\n",
              "<p>4736 rows × 3 columns</p>\n",
              "</div>"
            ],
            "text/plain": [
              "       latitude  Longitude  Vehicle Angle\n",
              "0     53.352844  -6.261524     140.695093\n",
              "1     53.352816  -6.261489     140.695093\n",
              "2     53.352814  -6.261486     140.695093\n",
              "3     53.352814  -6.261485     140.695093\n",
              "4     53.352814  -6.261485     140.695093\n",
              "...         ...        ...            ...\n",
              "4731  53.348799  -6.251481     166.581883\n",
              "4732  53.348657  -6.251473     177.287754\n",
              "4733  53.348509  -6.251479     179.161726\n",
              "4734  53.348418  -6.251402     141.330902\n",
              "4735  53.348315  -6.251285     138.551498\n",
              "\n",
              "[4736 rows x 3 columns]"
            ]
          },
          "metadata": {
            "tags": []
          },
          "execution_count": 14
        }
      ]
    },
    {
      "cell_type": "code",
      "metadata": {
        "id": "65Ky1ALuoov0",
        "colab_type": "code",
        "outputId": "06d34a8e-72fb-44ff-fadc-f80ddea1e1a1",
        "colab": {
          "base_uri": "https://localhost:8080/",
          "height": 34
        }
      },
      "source": [
        "train_size = int(len(final_dataset) * 0.80)\n",
        "test_size = len(final_dataset) - train_size\n",
        "train, test = final_dataset[0:train_size], final_dataset[train_size:len(final_dataset)]\n",
        "print(len(train), len(test))"
      ],
      "execution_count": 0,
      "outputs": [
        {
          "output_type": "stream",
          "text": [
            "3788 948\n"
          ],
          "name": "stdout"
        }
      ]
    },
    {
      "cell_type": "code",
      "metadata": {
        "id": "2ehFofbNoov4",
        "colab_type": "code",
        "colab": {}
      },
      "source": [
        "#convert an array of values into a dataset matrix\n",
        "def create_dataset(dataset, look_back=1):\n",
        "    dataX, dataY = [], []\n",
        "    \n",
        "    for i in range(len(dataset)-look_back-1):\n",
        "        a = dataset[i:(i+look_back)]\n",
        "        dataX.append(np.array(a))\n",
        "        dataY.append(np.array(dataset[i + look_back:i+look_back+1]))\n",
        "        \n",
        "    return np.array(dataX),np.array(dataY)"
      ],
      "execution_count": 0,
      "outputs": []
    },
    {
      "cell_type": "code",
      "metadata": {
        "id": "eOXihsf6oov9",
        "colab_type": "code",
        "colab": {}
      },
      "source": [
        "look_back = 50\n",
        "trainX, trainY = create_dataset(train, look_back)"
      ],
      "execution_count": 0,
      "outputs": []
    },
    {
      "cell_type": "code",
      "metadata": {
        "id": "AQF0BRKloowA",
        "colab_type": "code",
        "outputId": "7a8b232a-e780-4ccd-8b9d-1ae3ceca3f21",
        "colab": {
          "base_uri": "https://localhost:8080/",
          "height": 51
        }
      },
      "source": [
        "print(trainX.shape)\n",
        "print(trainY.shape)"
      ],
      "execution_count": 0,
      "outputs": [
        {
          "output_type": "stream",
          "text": [
            "(3737, 50, 3)\n",
            "(3737, 1, 3)\n"
          ],
          "name": "stdout"
        }
      ]
    },
    {
      "cell_type": "code",
      "metadata": {
        "id": "mbz0Hoy4oowE",
        "colab_type": "code",
        "outputId": "5c6107e3-6c6e-4196-f80a-168e39968cee",
        "colab": {
          "base_uri": "https://localhost:8080/",
          "height": 139
        }
      },
      "source": [
        "#Step 2 Build Model\n",
        "model = Sequential()\n",
        "model.reset_states()\n",
        "\n",
        "model.add(LSTM(\n",
        "    input_dim=3,\n",
        "    output_dim=100,\n",
        "    return_sequences=True))\n",
        "model.add(Dropout(0.2))\n",
        "\n",
        "model.add(LSTM(\n",
        "    100,\n",
        "    return_sequences=True))\n",
        "model.add(Dropout(0.2))\n",
        "\n",
        "model.add(Dense(\n",
        "    output_dim=3))\n",
        "model.add(Activation('linear'))\n",
        "\n",
        "start = time.time()\n",
        "model.compile(loss='mse', optimizer='adam')\n",
        "print ('compilation time : ', time.time() - start)"
      ],
      "execution_count": 0,
      "outputs": [
        {
          "output_type": "stream",
          "text": [
            "/usr/local/lib/python3.6/dist-packages/ipykernel_launcher.py:8: UserWarning: The `input_dim` and `input_length` arguments in recurrent layers are deprecated. Use `input_shape` instead.\n",
            "  \n",
            "/usr/local/lib/python3.6/dist-packages/ipykernel_launcher.py:8: UserWarning: Update your `LSTM` call to the Keras 2 API: `LSTM(return_sequences=True, input_shape=(None, 3), units=100)`\n",
            "  \n"
          ],
          "name": "stderr"
        },
        {
          "output_type": "stream",
          "text": [
            "compilation time :  0.012531757354736328\n"
          ],
          "name": "stdout"
        },
        {
          "output_type": "stream",
          "text": [
            "/usr/local/lib/python3.6/dist-packages/ipykernel_launcher.py:17: UserWarning: Update your `Dense` call to the Keras 2 API: `Dense(units=3)`\n"
          ],
          "name": "stderr"
        }
      ]
    },
    {
      "cell_type": "code",
      "metadata": {
        "id": "oWXmAobAoowK",
        "colab_type": "code",
        "outputId": "55967018-d8ee-434c-88c8-9dc52304fdbd",
        "colab": {
          "base_uri": "https://localhost:8080/",
          "height": 1000
        }
      },
      "source": [
        "model.fit(\n",
        "    trainX,\n",
        "    trainY,\n",
        "    batch_size=len(trainX),\n",
        "    nb_epoch=100,\n",
        "    shuffle = False,\n",
        "    validation_split=0.05)"
      ],
      "execution_count": 0,
      "outputs": [
        {
          "output_type": "stream",
          "text": [
            "/usr/local/lib/python3.6/dist-packages/ipykernel_launcher.py:7: UserWarning: The `nb_epoch` argument in `fit` has been renamed `epochs`.\n",
            "  import sys\n"
          ],
          "name": "stderr"
        },
        {
          "output_type": "stream",
          "text": [
            "Train on 3550 samples, validate on 187 samples\n",
            "Epoch 1/100\n",
            "3550/3550 [==============================] - 6s 2ms/step - loss: 12966.7480 - val_loss: 30793.1035\n",
            "Epoch 2/100\n",
            "3550/3550 [==============================] - 6s 2ms/step - loss: 12923.8955 - val_loss: 30719.7871\n",
            "Epoch 3/100\n",
            "3550/3550 [==============================] - 6s 2ms/step - loss: 12877.2471 - val_loss: 30639.8867\n",
            "Epoch 4/100\n",
            "3550/3550 [==============================] - 6s 2ms/step - loss: 12826.4639 - val_loss: 30552.5703\n",
            "Epoch 5/100\n",
            "3550/3550 [==============================] - 6s 2ms/step - loss: 12771.2500 - val_loss: 30458.7559\n",
            "Epoch 6/100\n",
            "3550/3550 [==============================] - 6s 2ms/step - loss: 12712.0742 - val_loss: 30362.0762\n",
            "Epoch 7/100\n",
            "3550/3550 [==============================] - 6s 2ms/step - loss: 12651.2080 - val_loss: 30266.6953\n",
            "Epoch 8/100\n",
            "3550/3550 [==============================] - 6s 2ms/step - loss: 12590.4580 - val_loss: 30175.3398\n",
            "Epoch 9/100\n",
            "3550/3550 [==============================] - 6s 2ms/step - loss: 12532.0898 - val_loss: 30088.5156\n",
            "Epoch 10/100\n",
            "3550/3550 [==============================] - 6s 2ms/step - loss: 12476.2461 - val_loss: 30005.5273\n",
            "Epoch 11/100\n",
            "3550/3550 [==============================] - 6s 2ms/step - loss: 12422.9658 - val_loss: 29925.8770\n",
            "Epoch 12/100\n",
            "3550/3550 [==============================] - 6s 2ms/step - loss: 12371.6309 - val_loss: 29848.7246\n",
            "Epoch 13/100\n",
            "3550/3550 [==============================] - 6s 2ms/step - loss: 12322.2822 - val_loss: 29772.5527\n",
            "Epoch 14/100\n",
            "3550/3550 [==============================] - 6s 2ms/step - loss: 12274.0029 - val_loss: 29696.1035\n",
            "Epoch 15/100\n",
            "3550/3550 [==============================] - 6s 2ms/step - loss: 12225.6270 - val_loss: 29618.9531\n",
            "Epoch 16/100\n",
            "3550/3550 [==============================] - 6s 2ms/step - loss: 12177.1387 - val_loss: 29540.9727\n",
            "Epoch 17/100\n",
            "3550/3550 [==============================] - 6s 2ms/step - loss: 12127.5322 - val_loss: 29462.5879\n",
            "Epoch 18/100\n",
            "3550/3550 [==============================] - 6s 2ms/step - loss: 12078.3428 - val_loss: 29384.5762\n",
            "Epoch 19/100\n",
            "3550/3550 [==============================] - 6s 2ms/step - loss: 12029.1299 - val_loss: 29307.6777\n",
            "Epoch 20/100\n",
            "3550/3550 [==============================] - 6s 2ms/step - loss: 11980.3428 - val_loss: 29232.3945\n",
            "Epoch 21/100\n",
            "3550/3550 [==============================] - 6s 2ms/step - loss: 11932.4609 - val_loss: 29159.0098\n",
            "Epoch 22/100\n",
            "3550/3550 [==============================] - 6s 2ms/step - loss: 11886.0264 - val_loss: 29087.6504\n",
            "Epoch 23/100\n",
            "3550/3550 [==============================] - 6s 2ms/step - loss: 11841.2676 - val_loss: 29018.3262\n",
            "Epoch 24/100\n",
            "3550/3550 [==============================] - 6s 2ms/step - loss: 11798.3027 - val_loss: 28951.2070\n",
            "Epoch 25/100\n",
            "3550/3550 [==============================] - 6s 2ms/step - loss: 11756.7617 - val_loss: 28887.1289\n",
            "Epoch 26/100\n",
            "3550/3550 [==============================] - 6s 2ms/step - loss: 11717.3916 - val_loss: 28826.3672\n",
            "Epoch 27/100\n",
            "3550/3550 [==============================] - 6s 2ms/step - loss: 11679.6416 - val_loss: 28769.1465\n",
            "Epoch 28/100\n",
            "3550/3550 [==============================] - 6s 2ms/step - loss: 11643.8213 - val_loss: 28715.2598\n",
            "Epoch 29/100\n",
            "3550/3550 [==============================] - 6s 2ms/step - loss: 11610.1553 - val_loss: 28664.2812\n",
            "Epoch 30/100\n",
            "3550/3550 [==============================] - 6s 2ms/step - loss: 11578.7900 - val_loss: 28615.7852\n",
            "Epoch 31/100\n",
            "3550/3550 [==============================] - 6s 2ms/step - loss: 11548.6016 - val_loss: 28569.4453\n",
            "Epoch 32/100\n",
            "3550/3550 [==============================] - 6s 2ms/step - loss: 11519.9824 - val_loss: 28525.0898\n",
            "Epoch 33/100\n",
            "3550/3550 [==============================] - 6s 2ms/step - loss: 11492.2373 - val_loss: 28482.5938\n",
            "Epoch 34/100\n",
            "3550/3550 [==============================] - 6s 2ms/step - loss: 11466.2012 - val_loss: 28441.8184\n",
            "Epoch 35/100\n",
            "3550/3550 [==============================] - 6s 2ms/step - loss: 11441.5703 - val_loss: 28402.6211\n",
            "Epoch 36/100\n",
            "3550/3550 [==============================] - 6s 2ms/step - loss: 11417.0146 - val_loss: 28364.7305\n",
            "Epoch 37/100\n",
            "3550/3550 [==============================] - 6s 2ms/step - loss: 11393.8828 - val_loss: 28327.9668\n",
            "Epoch 38/100\n",
            "3550/3550 [==============================] - 6s 2ms/step - loss: 11370.9590 - val_loss: 28292.2578\n",
            "Epoch 39/100\n",
            "3550/3550 [==============================] - 6s 2ms/step - loss: 11349.1357 - val_loss: 28257.6094\n",
            "Epoch 40/100\n",
            "3550/3550 [==============================] - 6s 2ms/step - loss: 11327.1582 - val_loss: 28224.0195\n",
            "Epoch 41/100\n",
            "3550/3550 [==============================] - 6s 2ms/step - loss: 11306.9883 - val_loss: 28191.3555\n",
            "Epoch 42/100\n",
            "3550/3550 [==============================] - 6s 2ms/step - loss: 11286.2861 - val_loss: 28159.4688\n",
            "Epoch 43/100\n",
            "3550/3550 [==============================] - 6s 2ms/step - loss: 11266.3779 - val_loss: 28128.3301\n",
            "Epoch 44/100\n",
            "3550/3550 [==============================] - 6s 2ms/step - loss: 11246.5244 - val_loss: 28097.8418\n",
            "Epoch 45/100\n",
            "3550/3550 [==============================] - 6s 2ms/step - loss: 11227.7256 - val_loss: 28067.9492\n",
            "Epoch 46/100\n",
            "3550/3550 [==============================] - 6s 2ms/step - loss: 11209.3779 - val_loss: 28038.5996\n",
            "Epoch 47/100\n",
            "3550/3550 [==============================] - 6s 2ms/step - loss: 11190.6973 - val_loss: 28009.7852\n",
            "Epoch 48/100\n",
            "3550/3550 [==============================] - 6s 2ms/step - loss: 11172.5605 - val_loss: 27981.3887\n",
            "Epoch 49/100\n",
            "3550/3550 [==============================] - 6s 2ms/step - loss: 11153.9893 - val_loss: 27953.3926\n",
            "Epoch 50/100\n",
            "3550/3550 [==============================] - 6s 2ms/step - loss: 11136.9238 - val_loss: 27925.7637\n",
            "Epoch 51/100\n",
            "3550/3550 [==============================] - 6s 2ms/step - loss: 11119.6641 - val_loss: 27898.3965\n",
            "Epoch 52/100\n",
            "3550/3550 [==============================] - 6s 2ms/step - loss: 11102.0957 - val_loss: 27871.2812\n",
            "Epoch 53/100\n",
            "3550/3550 [==============================] - 6s 2ms/step - loss: 11084.8848 - val_loss: 27844.2969\n",
            "Epoch 54/100\n",
            "3550/3550 [==============================] - 6s 2ms/step - loss: 11068.4033 - val_loss: 27817.4062\n",
            "Epoch 55/100\n",
            "3550/3550 [==============================] - 6s 2ms/step - loss: 11051.5703 - val_loss: 27790.6270\n",
            "Epoch 56/100\n",
            "3550/3550 [==============================] - 6s 2ms/step - loss: 11035.3525 - val_loss: 27764.2129\n",
            "Epoch 57/100\n",
            "3550/3550 [==============================] - 6s 2ms/step - loss: 11018.7285 - val_loss: 27738.0391\n",
            "Epoch 58/100\n",
            "3550/3550 [==============================] - 6s 2ms/step - loss: 11002.6611 - val_loss: 27712.0000\n",
            "Epoch 59/100\n",
            "3550/3550 [==============================] - 6s 2ms/step - loss: 10986.2764 - val_loss: 27686.0488\n",
            "Epoch 60/100\n",
            "3550/3550 [==============================] - 6s 2ms/step - loss: 10970.0283 - val_loss: 27660.2090\n",
            "Epoch 61/100\n",
            "3550/3550 [==============================] - 6s 2ms/step - loss: 10954.0967 - val_loss: 27634.7148\n",
            "Epoch 62/100\n",
            "3550/3550 [==============================] - 6s 2ms/step - loss: 10938.4043 - val_loss: 27609.3750\n",
            "Epoch 63/100\n",
            "3550/3550 [==============================] - 6s 2ms/step - loss: 10922.6055 - val_loss: 27584.1582\n",
            "Epoch 64/100\n",
            "3550/3550 [==============================] - 6s 2ms/step - loss: 10907.1738 - val_loss: 27558.9805\n",
            "Epoch 65/100\n",
            "3550/3550 [==============================] - 6s 2ms/step - loss: 10891.5967 - val_loss: 27533.9609\n",
            "Epoch 66/100\n",
            "3550/3550 [==============================] - 6s 2ms/step - loss: 10875.9980 - val_loss: 27509.2812\n",
            "Epoch 67/100\n",
            "3550/3550 [==============================] - 6s 2ms/step - loss: 10860.5010 - val_loss: 27484.9844\n",
            "Epoch 68/100\n",
            "3550/3550 [==============================] - 6s 2ms/step - loss: 10844.7588 - val_loss: 27460.8594\n",
            "Epoch 69/100\n",
            "3550/3550 [==============================] - 6s 2ms/step - loss: 10830.5420 - val_loss: 27436.8711\n",
            "Epoch 70/100\n",
            "3550/3550 [==============================] - 6s 2ms/step - loss: 10816.1299 - val_loss: 27413.1484\n",
            "Epoch 71/100\n",
            "3550/3550 [==============================] - 6s 2ms/step - loss: 10801.0684 - val_loss: 27389.3965\n",
            "Epoch 72/100\n",
            "3550/3550 [==============================] - 6s 2ms/step - loss: 10786.2285 - val_loss: 27365.7969\n",
            "Epoch 73/100\n",
            "3550/3550 [==============================] - 6s 2ms/step - loss: 10771.5928 - val_loss: 27342.1855\n",
            "Epoch 74/100\n",
            "3550/3550 [==============================] - 6s 2ms/step - loss: 10756.4316 - val_loss: 27318.6504\n",
            "Epoch 75/100\n",
            "3550/3550 [==============================] - 6s 2ms/step - loss: 10742.3770 - val_loss: 27295.2773\n",
            "Epoch 76/100\n",
            "3550/3550 [==============================] - 6s 2ms/step - loss: 10727.8135 - val_loss: 27272.0625\n",
            "Epoch 77/100\n",
            "3550/3550 [==============================] - 6s 2ms/step - loss: 10713.3770 - val_loss: 27248.8965\n",
            "Epoch 78/100\n",
            "3550/3550 [==============================] - 6s 2ms/step - loss: 10699.4844 - val_loss: 27225.8594\n",
            "Epoch 79/100\n",
            "3550/3550 [==============================] - 6s 2ms/step - loss: 10684.7520 - val_loss: 27202.9941\n",
            "Epoch 80/100\n",
            "3550/3550 [==============================] - 6s 2ms/step - loss: 10671.3906 - val_loss: 27180.1504\n",
            "Epoch 81/100\n",
            "3550/3550 [==============================] - 6s 2ms/step - loss: 10656.4229 - val_loss: 27157.3691\n",
            "Epoch 82/100\n",
            "3550/3550 [==============================] - 6s 2ms/step - loss: 10643.4160 - val_loss: 27134.6953\n",
            "Epoch 83/100\n",
            "3550/3550 [==============================] - 6s 2ms/step - loss: 10628.3408 - val_loss: 27112.1523\n",
            "Epoch 84/100\n",
            "3550/3550 [==============================] - 6s 2ms/step - loss: 10614.7666 - val_loss: 27089.6035\n",
            "Epoch 85/100\n",
            "3550/3550 [==============================] - 6s 2ms/step - loss: 10601.0566 - val_loss: 27067.1504\n",
            "Epoch 86/100\n",
            "3550/3550 [==============================] - 6s 2ms/step - loss: 10587.0469 - val_loss: 27044.8281\n",
            "Epoch 87/100\n",
            "3550/3550 [==============================] - 6s 2ms/step - loss: 10573.4365 - val_loss: 27022.5410\n",
            "Epoch 88/100\n",
            "3550/3550 [==============================] - 6s 2ms/step - loss: 10560.0664 - val_loss: 27000.2832\n",
            "Epoch 89/100\n",
            "3550/3550 [==============================] - 6s 2ms/step - loss: 10545.7119 - val_loss: 26978.1797\n",
            "Epoch 90/100\n",
            "3550/3550 [==============================] - 6s 2ms/step - loss: 10532.0654 - val_loss: 26956.1602\n",
            "Epoch 91/100\n",
            "3550/3550 [==============================] - 6s 2ms/step - loss: 10518.8418 - val_loss: 26934.1738\n",
            "Epoch 92/100\n",
            "3550/3550 [==============================] - 6s 2ms/step - loss: 10505.1104 - val_loss: 26912.2461\n",
            "Epoch 93/100\n",
            "3550/3550 [==============================] - 6s 2ms/step - loss: 10491.8545 - val_loss: 26890.4355\n",
            "Epoch 94/100\n",
            "3550/3550 [==============================] - 6s 2ms/step - loss: 10478.2129 - val_loss: 26868.6133\n",
            "Epoch 95/100\n",
            "3550/3550 [==============================] - 6s 2ms/step - loss: 10464.7266 - val_loss: 26846.9336\n",
            "Epoch 96/100\n",
            "3550/3550 [==============================] - 6s 2ms/step - loss: 10451.5527 - val_loss: 26825.2988\n",
            "Epoch 97/100\n",
            "3550/3550 [==============================] - 6s 2ms/step - loss: 10438.0254 - val_loss: 26803.6445\n",
            "Epoch 98/100\n",
            "3550/3550 [==============================] - 10s 3ms/step - loss: 10424.4160 - val_loss: 26782.1270\n",
            "Epoch 99/100\n",
            "3550/3550 [==============================] - 6s 2ms/step - loss: 10412.1846 - val_loss: 26760.7617\n",
            "Epoch 100/100\n",
            "3550/3550 [==============================] - 6s 2ms/step - loss: 10398.7061 - val_loss: 26739.3438\n"
          ],
          "name": "stdout"
        },
        {
          "output_type": "execute_result",
          "data": {
            "text/plain": [
              "<keras.callbacks.callbacks.History at 0x7f6d1d681a20>"
            ]
          },
          "metadata": {
            "tags": []
          },
          "execution_count": 24
        }
      ]
    },
    {
      "cell_type": "code",
      "metadata": {
        "id": "tQDpArZZoowO",
        "colab_type": "code",
        "colab": {}
      },
      "source": [
        "test.shape\n",
        "testX, testY = create_dataset(test, look_back)"
      ],
      "execution_count": 0,
      "outputs": []
    },
    {
      "cell_type": "code",
      "metadata": {
        "id": "9-5MrwPuoowU",
        "colab_type": "code",
        "outputId": "0f2ecb5c-28fa-408c-a5e1-df531d834200",
        "colab": {
          "base_uri": "https://localhost:8080/",
          "height": 867
        }
      },
      "source": [
        "test1 = np.array(testX[0:1])\n",
        "print(test1[0:1][0:1])\n"
      ],
      "execution_count": 0,
      "outputs": [
        {
          "output_type": "stream",
          "text": [
            "[[[ 53.352207  -6.262319 227.93251 ]\n",
            "  [ 53.352842  -6.255939 335.387673]\n",
            "  [ 53.352165  -6.262402 227.93251 ]\n",
            "  [ 53.352938  -6.256005 335.387673]\n",
            "  [ 53.352123  -6.262487 228.024202]\n",
            "  [ 53.352992  -6.256074 312.617726]\n",
            "  [ 53.352085  -6.262565 228.336497]\n",
            "  [ 53.352981  -6.256179 250.850975]\n",
            "  [ 53.352047  -6.262643 228.783772]\n",
            "  [ 53.352952  -6.256314 248.781875]\n",
            "  [ 53.349756  -6.260076 163.45156 ]\n",
            "  [ 53.352002  -6.262729 226.271674]\n",
            "  [ 53.352926  -6.256443 248.781875]\n",
            "  [ 53.349742  -6.26007  163.45156 ]\n",
            "  [ 53.351956  -6.262808 223.640211]\n",
            "  [ 53.352897  -6.25658  248.781875]\n",
            "  [ 53.349711  -6.260057 163.45156 ]\n",
            "  [ 53.351919  -6.262883 229.15418 ]\n",
            "  [ 53.352869  -6.256717 248.781875]\n",
            "  [ 53.349668  -6.260039 163.45156 ]\n",
            "  [ 53.351915  -6.262981 269.982114]\n",
            "  [ 53.352842  -6.256847 248.444073]\n",
            "  [ 53.349605  -6.260012 163.45156 ]\n",
            "  [ 53.351936  -6.263072 292.326781]\n",
            "  [ 53.352813  -6.256983 248.344478]\n",
            "  [ 53.349524  -6.259977 163.45156 ]\n",
            "  [ 53.351968  -6.263165 298.050431]\n",
            "  [ 53.352784  -6.257121 248.344478]\n",
            "  [ 53.349442  -6.259942 163.45156 ]\n",
            "  [ 53.352009  -6.263254 309.259395]\n",
            "  [ 53.352757  -6.257247 248.344478]\n",
            "  [ 53.34936   -6.259907 163.45156 ]\n",
            "  [ 53.352053  -6.263321 315.290511]\n",
            "  [ 53.352731  -6.25737  248.266439]\n",
            "  [ 53.34928   -6.259873 163.45156 ]\n",
            "  [ 53.352099  -6.263392 315.290511]\n",
            "  [ 53.352703  -6.257504 248.266439]\n",
            "  [ 53.3492    -6.259839 163.45156 ]\n",
            "  [ 53.35215   -6.263469 315.290511]\n",
            "  [ 53.352674  -6.25764  248.537484]\n",
            "  [ 53.349122  -6.259805 163.45156 ]\n",
            "  [ 53.352197  -6.263541 315.290511]\n",
            "  [ 53.352646  -6.257779 248.746102]\n",
            "  [ 53.349043  -6.259772 163.45156 ]\n",
            "  [ 53.352241  -6.263609 315.290511]\n",
            "  [ 53.352618  -6.257915 248.678342]\n",
            "  [ 53.348965  -6.259738 163.417946]\n",
            "  [ 53.35229   -6.263683 315.290511]\n",
            "  [ 53.352589  -6.258051 248.709995]\n",
            "  [ 53.348883  -6.259702 162.946616]]]\n"
          ],
          "name": "stdout"
        }
      ]
    },
    {
      "cell_type": "code",
      "metadata": {
        "id": "7UZtRwMsoowX",
        "colab_type": "code",
        "outputId": "e6b9c944-be83-42a5-8d36-e2cd64954f73",
        "colab": {
          "base_uri": "https://localhost:8080/",
          "height": 867
        }
      },
      "source": [
        "model.predict(test1)"
      ],
      "execution_count": 0,
      "outputs": [
        {
          "output_type": "execute_result",
          "data": {
            "text/plain": [
              "array([[[11.533971 , -4.5467663, 15.409312 ],\n",
              "        [15.061231 , -6.0033712, 20.101568 ],\n",
              "        [15.580061 , -6.216056 , 20.790201 ],\n",
              "        [15.651137 , -6.2446766, 20.885736 ],\n",
              "        [15.661651 , -6.249237 , 20.899223 ],\n",
              "        [15.662505 , -6.2493134, 20.900963 ],\n",
              "        [15.663223 , -6.249877 , 20.90135  ],\n",
              "        [15.663129 , -6.249762 , 20.9014   ],\n",
              "        [15.663264 , -6.249891 , 20.901423 ],\n",
              "        [15.66315  , -6.249771 , 20.901426 ],\n",
              "        [15.663758 , -6.250391 , 20.901476 ],\n",
              "        [15.663562 , -6.250188 , 20.90146  ],\n",
              "        [15.663439 , -6.250063 , 20.901453 ],\n",
              "        [15.663955 , -6.2505903, 20.901497 ],\n",
              "        [15.6637945, -6.250428 , 20.901463 ],\n",
              "        [15.663667 , -6.2503014, 20.901453 ],\n",
              "        [15.664087 , -6.250725 , 20.90151  ],\n",
              "        [15.663923 , -6.2505636, 20.90146  ],\n",
              "        [15.663821 , -6.2504616, 20.90145  ],\n",
              "        [15.664166 , -6.250806 , 20.901516 ],\n",
              "        [15.663767 , -6.250415 , 20.901438 ],\n",
              "        [15.66391  , -6.250559 , 20.901442 ],\n",
              "        [15.664209 , -6.2508516, 20.901518 ],\n",
              "        [15.6636715, -6.25033  , 20.901407 ],\n",
              "        [15.663961 , -6.250614 , 20.901438 ],\n",
              "        [15.664235 , -6.2508783, 20.901525 ],\n",
              "        [15.663678 , -6.2503424, 20.901394 ],\n",
              "        [15.663995 , -6.2506485, 20.901438 ],\n",
              "        [15.664252 , -6.250893 , 20.901527 ],\n",
              "        [15.663665 , -6.250334 , 20.901373 ],\n",
              "        [15.664011 , -6.2506676, 20.901434 ],\n",
              "        [15.664262 , -6.250902 , 20.90153  ],\n",
              "        [15.663662 , -6.2503395, 20.901361 ],\n",
              "        [15.6640215, -6.25068  , 20.901432 ],\n",
              "        [15.664268 , -6.250907 , 20.901531 ],\n",
              "        [15.663671 , -6.250348 , 20.901361 ],\n",
              "        [15.664031 , -6.250688 , 20.901436 ],\n",
              "        [15.664269 , -6.25091  , 20.901531 ],\n",
              "        [15.663676 , -6.250353 , 20.901361 ],\n",
              "        [15.664035 , -6.2506914, 20.901434 ],\n",
              "        [15.664272 , -6.250911 , 20.901533 ],\n",
              "        [15.663679 , -6.2503567, 20.90136  ],\n",
              "        [15.664035 , -6.2506933, 20.901434 ],\n",
              "        [15.664273 , -6.2509117, 20.901533 ],\n",
              "        [15.663682 , -6.2503586, 20.901361 ],\n",
              "        [15.664039 , -6.2506957, 20.901434 ],\n",
              "        [15.664273 , -6.250912 , 20.901533 ],\n",
              "        [15.663683 , -6.2503595, 20.901361 ],\n",
              "        [15.66404  , -6.250697 , 20.901434 ],\n",
              "        [15.664272 , -6.2509127, 20.901533 ]]], dtype=float32)"
            ]
          },
          "metadata": {
            "tags": []
          },
          "execution_count": 27
        }
      ]
    }
  ]
}